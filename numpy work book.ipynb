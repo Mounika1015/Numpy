{
 "cells": [
  {
   "cell_type": "code",
   "execution_count": 2,
   "metadata": {},
   "outputs": [
    {
     "name": "stdout",
     "output_type": "stream",
     "text": [
      "[1 2 3 4]\n",
      "True\n",
      "[0 1 2 3]\n",
      "False\n"
     ]
    }
   ],
   "source": [
    "#Write a NumPy program to test whether none of the elements of a given array is zero.\n",
    "import numpy as np\n",
    "x = np.array([1, 2, 3, 4])\n",
    "print(x)\n",
    "print(np.all(x))\n",
    "x = np.array([0, 1, 2, 3])\n",
    "print(x)\n",
    "print(np.all(x))"
   ]
  },
  {
   "cell_type": "code",
   "execution_count": 3,
   "metadata": {},
   "outputs": [
    {
     "name": "stdout",
     "output_type": "stream",
     "text": [
      "[1 0 0 0]\n",
      "True\n",
      "[0 0 0 0]\n",
      "False\n"
     ]
    }
   ],
   "source": [
    "#Write a NumPy program to test whether any of the elements of a given array is non-zero\n",
    "import numpy as np\n",
    "x = np.array([1, 0, 0, 0])\n",
    "print(x)\n",
    "print(np.any(x))\n",
    "x = np.array([0, 0, 0, 0])\n",
    "print(x)\n",
    "print(np.any(x))"
   ]
  },
  {
   "cell_type": "code",
   "execution_count": 4,
   "metadata": {},
   "outputs": [
    {
     "name": "stdout",
     "output_type": "stream",
     "text": [
      "[[0. 1. 0. 1.]\n",
      " [1. 0. 1. 0.]\n",
      " [0. 1. 0. 1.]\n",
      " [1. 0. 1. 0.]]\n"
     ]
    }
   ],
   "source": [
    "#Create an identity matrix of dimension 4-by-4\n",
    "x = np. zeros((4, 4))\n",
    "x[::2, 1::2] = 1.\n",
    "x[1::2, ::2] = 1.\n",
    "print(x)"
   ]
  },
  {
   "cell_type": "code",
   "execution_count": 5,
   "metadata": {},
   "outputs": [
    {
     "name": "stdout",
     "output_type": "stream",
     "text": [
      "[ 1  2  3  4  5  6  7  8  9 10 11 12]\n"
     ]
    }
   ],
   "source": [
    "#Convert a 1-D array to a 3-D array\n",
    "ar = np.array([1, 2, 3, 4, 5, 6, 7, 8, 9, 10, 11, 12])\n",
    "print(ar)"
   ]
  },
  {
   "cell_type": "code",
   "execution_count": 6,
   "metadata": {},
   "outputs": [
    {
     "name": "stdout",
     "output_type": "stream",
     "text": [
      "3D Numpy array:\n",
      "[[[ 1  2  3]\n",
      "  [ 4  5  6]]\n",
      "\n",
      " [[ 7  8  9]\n",
      "  [10 11 12]]]\n"
     ]
    }
   ],
   "source": [
    "#Convert all the elements of a numpy array from float to integer datatype\n",
    "ar = np.reshape(ar, (2, 2, 3))\n",
    "print('3D Numpy array:')\n",
    "print(ar)"
   ]
  },
  {
   "cell_type": "code",
   "execution_count": 7,
   "metadata": {},
   "outputs": [
    {
     "name": "stdout",
     "output_type": "stream",
     "text": [
      "[[0.74662858 0.52646742 0.06181372 0.73395035 0.19460347 0.53302532\n",
      "  0.61800992 0.50983208 0.79902422 0.13666888]\n",
      " [0.39379462 0.47616539 0.51902152 0.90548356 0.29273248 0.87989072\n",
      "  0.92066522 0.44931335 0.82710858 0.57956211]\n",
      " [0.69854961 0.84611653 0.77267809 0.64563309 0.76073353 0.58714642\n",
      "  0.85899655 0.20419719 0.54936038 0.3282035 ]\n",
      " [0.61440524 0.56053337 0.19398115 0.72506274 0.27448461 0.40334219\n",
      "  0.09283288 0.88479238 0.61934654 0.53932791]\n",
      " [0.64888277 0.53576534 0.70784304 0.92522757 0.16022293 0.31715088\n",
      "  0.23717905 0.42155805 0.55516297 0.1047668 ]\n",
      " [0.48179009 0.30820482 0.51423983 0.95322323 0.6712073  0.01562005\n",
      "  0.84027076 0.40542495 0.83301705 0.69951794]\n",
      " [0.36465015 0.47886732 0.14114563 0.13833262 0.77793077 0.3789103\n",
      "  0.47052721 0.53171609 0.87330602 0.78805206]\n",
      " [0.6380039  0.39377959 0.4062082  0.31594205 0.40655549 0.28634108\n",
      "  0.71089276 0.68100174 0.05809139 0.95761906]\n",
      " [0.25020208 0.91051712 0.22278949 0.54225459 0.68605358 0.65013654\n",
      "  0.75130659 0.55461211 0.17238826 0.4132601 ]\n",
      " [0.89654936 0.02460681 0.17682758 0.61669934 0.51235706 0.78447121\n",
      "  0.80578881 0.23974499 0.83996085 0.48001766]]\n",
      "Minimum and Maximum Values:\n",
      "0.015620050966673737 0.9576190568150923\n",
      "[[0.74662858 0.52646742 0.06181372 0.73395035 0.19460347 0.53302532\n",
      "  0.61800992 0.50983208 0.79902422 0.13666888]\n",
      " [0.39379462 0.47616539 0.51902152 0.90548356 0.29273248 0.87989072\n",
      "  0.92066522 0.44931335 0.82710858 0.57956211]\n",
      " [0.69854961 0.84611653 0.77267809 0.64563309 0.76073353 0.58714642\n",
      "  0.85899655 0.20419719 0.54936038 0.3282035 ]\n",
      " [0.61440524 0.56053337 0.19398115 0.72506274 0.27448461 0.40334219\n",
      "  0.09283288 0.88479238 0.61934654 0.53932791]\n",
      " [0.64888277 0.53576534 0.70784304 0.92522757 0.16022293 0.31715088\n",
      "  0.23717905 0.42155805 0.55516297 0.1047668 ]\n",
      " [0.48179009 0.30820482 0.51423983 0.95322323 0.6712073  0.01562005\n",
      "  0.84027076 0.40542495 0.83301705 0.69951794]\n",
      " [0.36465015 0.47886732 0.14114563 0.13833262 0.77793077 0.3789103\n",
      "  0.47052721 0.53171609 0.87330602 0.78805206]\n",
      " [0.6380039  0.39377959 0.4062082  0.31594205 0.40655549 0.28634108\n",
      "  0.71089276 0.68100174 0.05809139 0.95761906]\n",
      " [0.25020208 0.91051712 0.22278949 0.54225459 0.68605358 0.65013654\n",
      "  0.75130659 0.55461211 0.17238826 0.4132601 ]\n",
      " [0.89654936 0.02460681 0.17682758 0.61669934 0.51235706 0.78447121\n",
      "  0.80578881 0.23974499 0.83996085 0.48001766]]\n",
      "Minimum and Maximum Values:\n",
      "0.015620050966673737 0.9576190568150923\n"
     ]
    }
   ],
   "source": [
    "##Create a 10x10 array with random values and find the minimum and maximum values\n",
    "import numpy as np\n",
    "x = np.random.random((10,10))##Create a 10x10 array with random values and find the minimum and maximum values\n",
    "import numpy as np\n",
    "x = np.random.random((10,10))\n",
    "print(x) \n",
    "xmin, xmax = x.min(), x.max()\n",
    "print(\"Minimum and Maximum Values:\")\n",
    "print(xmin, xmax)\n",
    "print(x) \n",
    "xmin, xmax = x.min(), x.max()\n",
    "print(\"Minimum and Maximum Values:\")\n",
    "print(xmin, xmax)"
   ]
  },
  {
   "cell_type": "code",
   "execution_count": 8,
   "metadata": {},
   "outputs": [
    {
     "name": "stdout",
     "output_type": "stream",
     "text": [
      "0.5067883989580083\n"
     ]
    }
   ],
   "source": [
    "##Create a random vector of size 30 and find the mean value\n",
    "x = np.random.random(30)\n",
    "m = x.mean()\n",
    "print (m)"
   ]
  },
  {
   "cell_type": "code",
   "execution_count": 9,
   "metadata": {},
   "outputs": [
    {
     "name": "stdout",
     "output_type": "stream",
     "text": [
      "[[0 0 0 0 0]\n",
      " [1 0 0 0 0]\n",
      " [0 2 0 0 0]\n",
      " [0 0 3 0 0]\n",
      " [0 0 0 4 0]]\n"
     ]
    }
   ],
   "source": [
    "##Create a 5x5 matrix with values 1,2,3,4 just below the diagonal\n",
    "y = np.diag(1+np.arange(4), k = -1)\n",
    "print (y)"
   ]
  },
  {
   "cell_type": "code",
   "execution_count": 10,
   "metadata": {},
   "outputs": [
    {
     "name": "stdout",
     "output_type": "stream",
     "text": [
      "[[1. 1. 1. 1. 1. 1.]\n",
      " [1. 0. 0. 0. 0. 1.]\n",
      " [1. 0. 0. 0. 0. 1.]\n",
      " [1. 0. 0. 0. 0. 1.]\n",
      " [1. 0. 0. 0. 0. 1.]\n",
      " [1. 1. 1. 1. 1. 1.]]\n"
     ]
    }
   ],
   "source": [
    "##Create a 2d array with 1 on the border and 0 inside\n",
    "x = np.ones((6,6))\n",
    "x[1:-1,1:-1]=0\n",
    "print(x)"
   ]
  },
  {
   "cell_type": "code",
   "execution_count": 11,
   "metadata": {},
   "outputs": [
    {
     "name": "stdout",
     "output_type": "stream",
     "text": [
      "[[0. 0. 0. 0. 0.]\n",
      " [0. 1. 1. 1. 0.]\n",
      " [0. 1. 1. 1. 0.]\n",
      " [0. 1. 1. 1. 0.]\n",
      " [0. 0. 0. 0. 0.]]\n"
     ]
    }
   ],
   "source": [
    "##How to add a border (filled with 0's) around an existing array?\n",
    "x = np.ones((3,3))\n",
    "x = np.pad(x, pad_width=1, mode='constant', constant_values=0)\n",
    "print(x)"
   ]
  },
  {
   "cell_type": "code",
   "execution_count": 12,
   "metadata": {},
   "outputs": [
    {
     "name": "stdout",
     "output_type": "stream",
     "text": [
      "[[0 1 0 1 0 1 0 1]\n",
      " [1 0 1 0 1 0 1 0]\n",
      " [0 1 0 1 0 1 0 1]\n",
      " [1 0 1 0 1 0 1 0]\n",
      " [0 1 0 1 0 1 0 1]\n",
      " [1 0 1 0 1 0 1 0]\n",
      " [0 1 0 1 0 1 0 1]\n",
      " [1 0 1 0 1 0 1 0]]\n"
     ]
    }
   ],
   "source": [
    "##Create a 8x8 matrix and fill it with a checkerboard pattern\n",
    "y = np.zeros ((8,8), dtype=int)\n",
    "y[1::2, ::2]= 1\n",
    "y[::2, 1::2] = 1\n",
    "print (y)"
   ]
  },
  {
   "cell_type": "code",
   "execution_count": 13,
   "metadata": {},
   "outputs": [
    {
     "name": "stdout",
     "output_type": "stream",
     "text": [
      "(1, 5, 4)\n"
     ]
    }
   ],
   "source": [
    "##Consider a (6,7,8) shape array, what is the index (x,y,z) of the 100th element?\n",
    "print (np.unravel_index(100, (6,7,8)))"
   ]
  },
  {
   "cell_type": "code",
   "execution_count": 14,
   "metadata": {},
   "outputs": [
    {
     "name": "stdout",
     "output_type": "stream",
     "text": [
      "[[0 1 0 1 0 1 0 1]\n",
      " [1 0 1 0 1 0 1 0]\n",
      " [0 1 0 1 0 1 0 1]\n",
      " [1 0 1 0 1 0 1 0]\n",
      " [0 1 0 1 0 1 0 1]\n",
      " [1 0 1 0 1 0 1 0]\n",
      " [0 1 0 1 0 1 0 1]\n",
      " [1 0 1 0 1 0 1 0]]\n"
     ]
    }
   ],
   "source": [
    "##Create a checkerboard 8x8 matrix using the tile function\n",
    "array= np.array([[0,1], [1,0]])\n",
    "S = np.tile(array,(4,4))\n",
    "print (S)"
   ]
  },
  {
   "cell_type": "code",
   "execution_count": 15,
   "metadata": {},
   "outputs": [
    {
     "name": "stdout",
     "output_type": "stream",
     "text": [
      "[[0.85947099 0.82103877 0.40243834 0.87732686 0.63329177]\n",
      " [0.73356885 0.83995118 0.24256847 1.         0.21072307]\n",
      " [0.03183988 0.98931127 0.03094014 0.99088003 0.13220953]\n",
      " [0.31922884 0.66790938 0.20597942 0.90966535 0.59665144]\n",
      " [0.11407185 0.         0.60707367 0.67168456 0.83486835]]\n"
     ]
    }
   ],
   "source": [
    "##Normalize a 5x5 random matrix\n",
    "i = np.random.random((5,5))\n",
    "imax, imin = i.max(), i.min()\n",
    "i= (i-imin)/(imax-imin)\n",
    "print (i)"
   ]
  },
  {
   "cell_type": "code",
   "execution_count": 16,
   "metadata": {},
   "outputs": [
    {
     "name": "stderr",
     "output_type": "stream",
     "text": [
      "<ipython-input-16-6826c9df19bf>:2: FutureWarning: Passing (type, 1) or '1type' as a synonym of type is deprecated; in a future version of numpy, it will be understood as (type, (1,)) / '(1,)type'.\n",
      "  color = np.dtype([(\"r\", np.ubyte, 1),\n"
     ]
    }
   ],
   "source": [
    "##Create a custom dtype that describes a color as four unsigned bytes (RGBA)\n",
    "color = np.dtype([(\"r\", np.ubyte, 1),\n",
    "                  (\"g\", np.ubyte, 1),\n",
    "                  (\"b\", np.ubyte, 1),\n",
    "                  (\"a\", np.ubyte, 1)])"
   ]
  },
  {
   "cell_type": "code",
   "execution_count": 17,
   "metadata": {},
   "outputs": [
    {
     "name": "stdout",
     "output_type": "stream",
     "text": [
      "[[3. 3.]\n",
      " [3. 3.]\n",
      " [3. 3.]\n",
      " [3. 3.]\n",
      " [3. 3.]]\n"
     ]
    }
   ],
   "source": [
    "##Multiply a 5x3 matrix by a 3x2 matrix (real matrix product)\n",
    "r= np.dot(np.ones((5,3)), np.ones((3,2)))\n",
    "print (r)"
   ]
  },
  {
   "cell_type": "code",
   "execution_count": 18,
   "metadata": {},
   "outputs": [
    {
     "name": "stdout",
     "output_type": "stream",
     "text": [
      "[ 0  1  2 -1 -1 -1 -1 -1 -1  9 10]\n"
     ]
    }
   ],
   "source": [
    "##Given a 1D array, negate all elements which are between 3 and 8, in place.\n",
    "x = np.arange(11)\n",
    "x[(x >= 3) & (x <= 8)] = -1\n",
    "print(x)"
   ]
  },
  {
   "cell_type": "code",
   "execution_count": 19,
   "metadata": {},
   "outputs": [],
   "source": [
    "##Consider an integer vector Z, which of these expressions are legal? \n"
   ]
  },
  {
   "cell_type": "code",
   "execution_count": 20,
   "metadata": {},
   "outputs": [
    {
     "name": "stdout",
     "output_type": "stream",
     "text": [
      "[1. 2. 1. 4. 3.]\n"
     ]
    }
   ],
   "source": [
    "##How to round away from zero a float array ?\n",
    "x = np.random.uniform(-5, +5, 5)\n",
    "print(np.copysign(np.ceil(np.abs(x)), x))\n"
   ]
  },
  {
   "cell_type": "code",
   "execution_count": 21,
   "metadata": {},
   "outputs": [
    {
     "name": "stdout",
     "output_type": "stream",
     "text": [
      "[ 5  6  7  8  9 10 11 12 13 14]\n"
     ]
    }
   ],
   "source": [
    "##How to find common values between two arrays?\n",
    "x = np.arange(0, 20)\n",
    "y = np.arange(5, 15)\n",
    "print(np.intersect1d(x, y))"
   ]
  },
  {
   "cell_type": "code",
   "execution_count": 22,
   "metadata": {},
   "outputs": [
    {
     "name": "stdout",
     "output_type": "stream",
     "text": [
      "Yestraday:  2021-08-16\n",
      "Today:  2021-08-17\n",
      "Tomorrow:  2021-08-18\n"
     ]
    }
   ],
   "source": [
    "##How to get the dates of yesterday, today and tomorrow?\n",
    "yesterday = np.datetime64('today', 'D') - np.timedelta64(1, 'D')\n",
    "print(\"Yestraday: \",yesterday)\n",
    "today     = np.datetime64('today', 'D')\n",
    "print(\"Today: \",today)\n",
    "tomorrow  = np.datetime64('today', 'D') + np.timedelta64(1, 'D')\n",
    "print(\"Tomorrow: \",tomorrow)\n"
   ]
  },
  {
   "cell_type": "code",
   "execution_count": 23,
   "metadata": {},
   "outputs": [
    {
     "name": "stdout",
     "output_type": "stream",
     "text": [
      "['2016-07-01' '2016-07-02' '2016-07-03' '2016-07-04' '2016-07-05'\n",
      " '2016-07-06' '2016-07-07' '2016-07-08' '2016-07-09' '2016-07-10'\n",
      " '2016-07-11' '2016-07-12' '2016-07-13' '2016-07-14' '2016-07-15'\n",
      " '2016-07-16' '2016-07-17' '2016-07-18' '2016-07-19' '2016-07-20'\n",
      " '2016-07-21' '2016-07-22' '2016-07-23' '2016-07-24' '2016-07-25'\n",
      " '2016-07-26' '2016-07-27' '2016-07-28' '2016-07-29' '2016-07-30'\n",
      " '2016-07-31']\n"
     ]
    }
   ],
   "source": [
    "##How to get all the dates corresponding to the month of July 2016?\n",
    "x = np.arange('2016-07', '2016-08', dtype='datetime64[D]')\n",
    "print(x)"
   ]
  },
  {
   "cell_type": "code",
   "execution_count": 24,
   "metadata": {},
   "outputs": [
    {
     "name": "stdout",
     "output_type": "stream",
     "text": [
      "[3. 3. 3. 3. 3.]\n",
      "[0.5 0.5 0.5 0.5 0.5]\n",
      "[-0.5 -0.5 -0.5 -0.5 -0.5]\n",
      "[-1.5 -1.5 -1.5 -1.5 -1.5]\n"
     ]
    }
   ],
   "source": [
    "##.How to compute ((A+B)*(-A/2)) in place (without copy)?\n",
    "A = np.ones(5) * 1\n",
    "B = np.ones(5) * 2\n",
    "C = np.ones(5) * 3\n",
    "print(np.add(A, B, out=B))\n",
    "print(np.divide(A, 2, out=A))\n",
    "print(np.negative(A, out=A))\n",
    "print(np.multiply(A, B, out=A))"
   ]
  },
  {
   "cell_type": "code",
   "execution_count": 25,
   "metadata": {},
   "outputs": [
    {
     "name": "stdout",
     "output_type": "stream",
     "text": [
      "[0. 5. 8. 6. 1. 9. 5. 2. 9. 1.]\n",
      "[0. 5. 8. 6. 1. 9. 5. 2. 9. 1.]\n",
      "[0. 5. 8. 6. 1. 9. 5. 2. 9. 1.]\n",
      "[0 5 8 6 1 9 5 2 9 1]\n",
      "[0. 5. 8. 6. 1. 9. 5. 2. 9. 1.]\n"
     ]
    }
   ],
   "source": [
    "##Extract the integer part of a random array of positive numbers using 4 different methods\n",
    "i = np.random.uniform(0,10,10)\n",
    "\n",
    "print(i - i%1)\n",
    "print(i // 1)\n",
    "print(np.floor(i))\n",
    "print(i.astype(int))\n",
    "print(np.trunc(i))"
   ]
  },
  {
   "cell_type": "code",
   "execution_count": 27,
   "metadata": {},
   "outputs": [
    {
     "name": "stdout",
     "output_type": "stream",
     "text": [
      "[[0. 1. 2. 3. 4.]\n",
      " [0. 1. 2. 3. 4.]\n",
      " [0. 1. 2. 3. 4.]\n",
      " [0. 1. 2. 3. 4.]\n",
      " [0. 1. 2. 3. 4.]]\n"
     ]
    }
   ],
   "source": [
    "##Create a 5x5 matrix with row values ranging from 0 to 4\n",
    "s = np.zeros((5,5))\n",
    "s += np.arange(5)\n",
    "print(s)\n",
    "\n"
   ]
  },
  {
   "cell_type": "code",
   "execution_count": 28,
   "metadata": {},
   "outputs": [
    {
     "name": "stdout",
     "output_type": "stream",
     "text": [
      "[0. 1. 2. 3. 4. 5. 6. 7. 8. 9.]\n"
     ]
    }
   ],
   "source": [
    "##Consider a generator function that generates 10 integers and use it to build an array\n",
    "def generate():\n",
    "    for x in range(10):\n",
    "        yield x\n",
    "Z = np.fromiter(generate(),dtype=float,count=-1)\n",
    "print(Z)\n"
   ]
  },
  {
   "cell_type": "code",
   "execution_count": 29,
   "metadata": {},
   "outputs": [
    {
     "name": "stdout",
     "output_type": "stream",
     "text": [
      "[0.09090909 0.18181818 0.27272727 0.36363636 0.45454545 0.54545455\n",
      " 0.63636364 0.72727273 0.81818182 0.90909091]\n"
     ]
    }
   ],
   "source": [
    "##Create a vector of size 10 with values ranging from 0 to 1, both excluded\n",
    "a = np.linspace(0,1,11,endpoint=False)[1:]\n",
    "print(a)"
   ]
  },
  {
   "cell_type": "code",
   "execution_count": 30,
   "metadata": {},
   "outputs": [
    {
     "name": "stdout",
     "output_type": "stream",
     "text": [
      "[0.07336612 0.18723056 0.40180094 0.46635243 0.51472382 0.56106475\n",
      " 0.63849968 0.65330456 0.85146558 0.95898727]\n"
     ]
    }
   ],
   "source": [
    "##Create a random vector of size 10 and sort it\n",
    "n = np.random.random(10)\n",
    "n.sort()\n",
    "print(n)"
   ]
  },
  {
   "cell_type": "code",
   "execution_count": 31,
   "metadata": {},
   "outputs": [
    {
     "name": "stdout",
     "output_type": "stream",
     "text": [
      "[0 1 2 3 4 5 6 7 8 9]\n"
     ]
    }
   ],
   "source": [
    "##.How to sum a small array faster than np.sum?\n",
    "x = np.arange(10)\n",
    "np.add.reduce(x)\n",
    "print(x)"
   ]
  },
  {
   "cell_type": "code",
   "execution_count": 32,
   "metadata": {},
   "outputs": [
    {
     "name": "stdout",
     "output_type": "stream",
     "text": [
      "True\n",
      "True\n"
     ]
    }
   ],
   "source": [
    "##Consider two random array A and B, check if they are equal\n",
    "A = np.random.randint(0,1,4)\n",
    "B = np.random.randint(0,1,4)\n",
    "\n",
    "equal = np.allclose(A,B)\n",
    "print(equal)\n",
    "equal = np.array_equal(A,B)\n",
    "print(equal)"
   ]
  },
  {
   "cell_type": "code",
   "execution_count": 33,
   "metadata": {},
   "outputs": [
    {
     "ename": "ValueError",
     "evalue": "assignment destination is read-only",
     "output_type": "error",
     "traceback": [
      "\u001b[1;31m---------------------------------------------------------------------------\u001b[0m",
      "\u001b[1;31mValueError\u001b[0m                                Traceback (most recent call last)",
      "\u001b[1;32m<ipython-input-33-a1e639ce96d6>\u001b[0m in \u001b[0;36m<module>\u001b[1;34m\u001b[0m\n\u001b[0;32m      2\u001b[0m \u001b[0ma\u001b[0m \u001b[1;33m=\u001b[0m \u001b[0mnp\u001b[0m\u001b[1;33m.\u001b[0m\u001b[0mzeros\u001b[0m\u001b[1;33m(\u001b[0m\u001b[1;36m10\u001b[0m\u001b[1;33m)\u001b[0m\u001b[1;33m\u001b[0m\u001b[1;33m\u001b[0m\u001b[0m\n\u001b[0;32m      3\u001b[0m \u001b[0ma\u001b[0m\u001b[1;33m.\u001b[0m\u001b[0mflags\u001b[0m\u001b[1;33m.\u001b[0m\u001b[0mwriteable\u001b[0m \u001b[1;33m=\u001b[0m \u001b[1;32mFalse\u001b[0m\u001b[1;33m\u001b[0m\u001b[1;33m\u001b[0m\u001b[0m\n\u001b[1;32m----> 4\u001b[1;33m \u001b[0ma\u001b[0m\u001b[1;33m[\u001b[0m\u001b[1;36m0\u001b[0m\u001b[1;33m]\u001b[0m \u001b[1;33m=\u001b[0m \u001b[1;36m1\u001b[0m\u001b[1;33m\u001b[0m\u001b[1;33m\u001b[0m\u001b[0m\n\u001b[0m",
      "\u001b[1;31mValueError\u001b[0m: assignment destination is read-only"
     ]
    }
   ],
   "source": [
    "##Make an array immutable (read-only)\n",
    "a = np.zeros(10)\n",
    "a.flags.writeable = False\n",
    "a[0] = 1"
   ]
  },
  {
   "cell_type": "code",
   "execution_count": 39,
   "metadata": {},
   "outputs": [
    {
     "name": "stdout",
     "output_type": "stream",
     "text": [
      "[0.37114579 0.9927034  1.25772777 0.76758472 0.64756218 0.58256291\n",
      " 0.61900678 0.14979149 0.69656801 0.81172451]\n",
      "[0.44105966 1.27947886 0.71597724 0.54424304 1.2249785  0.28933833\n",
      " 1.19077179 0.23377101 1.11280899 0.34369547]\n"
     ]
    }
   ],
   "source": [
    "##Consider a random 10x2 matrix representing cartesian coordinates, convert them to polar coordinates\n",
    "z = np.random.random((10, 2))\n",
    "x, y = z[:, 0], z[:, 1]\n",
    "s = np.sqrt(x ** 2 + y ** 2)\n",
    "a = np.arctan2(y, x)\n",
    "print(s)\n",
    "print(a)"
   ]
  },
  {
   "cell_type": "code",
   "execution_count": 34,
   "metadata": {},
   "outputs": [
    {
     "name": "stdout",
     "output_type": "stream",
     "text": [
      "[0.         0.70063063 0.00293758 0.55542946 0.85736008 0.49045068\n",
      " 0.49930605 0.83523519 0.42649832 0.05213379]\n"
     ]
    }
   ],
   "source": [
    "##Create random vector of size 10 and replace the maximum value by 0\n",
    "a = np.random.random(10)\n",
    "a[a.argmax()] = 0\n",
    "print(a)"
   ]
  },
  {
   "cell_type": "code",
   "execution_count": 35,
   "metadata": {},
   "outputs": [
    {
     "name": "stdout",
     "output_type": "stream",
     "text": [
      "[[(0.  , 0.  ) (0.25, 0.  ) (0.5 , 0.  ) (0.75, 0.  ) (1.  , 0.  )]\n",
      " [(0.  , 0.25) (0.25, 0.25) (0.5 , 0.25) (0.75, 0.25) (1.  , 0.25)]\n",
      " [(0.  , 0.5 ) (0.25, 0.5 ) (0.5 , 0.5 ) (0.75, 0.5 ) (1.  , 0.5 )]\n",
      " [(0.  , 0.75) (0.25, 0.75) (0.5 , 0.75) (0.75, 0.75) (1.  , 0.75)]\n",
      " [(0.  , 1.  ) (0.25, 1.  ) (0.5 , 1.  ) (0.75, 1.  ) (1.  , 1.  )]]\n"
     ]
    }
   ],
   "source": [
    "##Create a structured array with x and y coordinates covering the [0,1]x[0,1] area\n",
    "p = np.zeros((5,5), [('x',float),('y',float)])\n",
    "p['x'], p['y'] = np.meshgrid(np.linspace(0,1,5),\n",
    "                             np.linspace(0,1,5))\n",
    "print(p)"
   ]
  },
  {
   "cell_type": "code",
   "execution_count": 36,
   "metadata": {},
   "outputs": [
    {
     "name": "stdout",
     "output_type": "stream",
     "text": [
      "-128\n",
      "127\n",
      "-2147483648\n",
      "2147483647\n",
      "-9223372036854775808\n",
      "9223372036854775807\n",
      "-3.4028235e+38\n",
      "3.4028235e+38\n",
      "1.1920929e-07\n",
      "-1.7976931348623157e+308\n",
      "1.7976931348623157e+308\n",
      "2.220446049250313e-16\n"
     ]
    }
   ],
   "source": [
    "##Print the minimum and maximum representable value for each numpy scalar type\n",
    "for dtype in [np.int8, np.int32, np.int64]:\n",
    "   print(np.iinfo(dtype).min)\n",
    "   print(np.iinfo(dtype).max)\n",
    "for dtype in [np.float32, np.float64]:\n",
    "   print(np.finfo(dtype).min)\n",
    "   print(np.finfo(dtype).max)\n",
    "   print(np.finfo(dtype).eps)"
   ]
  },
  {
   "cell_type": "code",
   "execution_count": 41,
   "metadata": {},
   "outputs": [
    {
     "name": "stdout",
     "output_type": "stream",
     "text": [
      "3638.1636371179666\n"
     ]
    }
   ],
   "source": [
    "##Given two arrays, X and Y, construct the Cauchy matrix C (Cij =1/(xi - yj))\n",
    "a = np.arange(8)\n",
    "b = a + 0.5\n",
    "c = 1.0 / np.subtract.outer(a, b)\n",
    "print(np.linalg.det(c))"
   ]
  },
  {
   "cell_type": "code",
   "execution_count": 40,
   "metadata": {},
   "outputs": [
    {
     "name": "stdout",
     "output_type": "stream",
     "text": [
      "[((0., 0.), (0., 0., 0.)) ((0., 0.), (0., 0., 0.))\n",
      " ((0., 0.), (0., 0., 0.)) ((0., 0.), (0., 0., 0.))\n",
      " ((0., 0.), (0., 0., 0.)) ((0., 0.), (0., 0., 0.))\n",
      " ((0., 0.), (0., 0., 0.)) ((0., 0.), (0., 0., 0.))\n",
      " ((0., 0.), (0., 0., 0.)) ((0., 0.), (0., 0., 0.))]\n"
     ]
    },
    {
     "name": "stderr",
     "output_type": "stream",
     "text": [
      "<ipython-input-40-ffc9931c539a>:2: FutureWarning: Passing (type, 1) or '1type' as a synonym of type is deprecated; in a future version of numpy, it will be understood as (type, (1,)) / '(1,)type'.\n",
      "  a = np.zeros(10, [ ('position', [ ('x', float, 1),\n"
     ]
    }
   ],
   "source": [
    "##Create a structured array representing a position (x,y) and a color (r,g,b)\n",
    "a = np.zeros(10, [ ('position', [ ('x', float, 1),\n",
    "                                  ('y', float, 1)]),\n",
    "                   ('color',    [ ('r', float, 1),\n",
    "                                  ('g', float, 1),\n",
    "                                  ('b', float, 1)])])\n",
    "print(a)"
   ]
  },
  {
   "cell_type": "code",
   "execution_count": null,
   "metadata": {},
   "outputs": [],
   "source": []
  }
 ],
 "metadata": {
  "kernelspec": {
   "display_name": "Python 3",
   "language": "python",
   "name": "python3"
  },
  "language_info": {
   "codemirror_mode": {
    "name": "ipython",
    "version": 3
   },
   "file_extension": ".py",
   "mimetype": "text/x-python",
   "name": "python",
   "nbconvert_exporter": "python",
   "pygments_lexer": "ipython3",
   "version": "3.8.5"
  }
 },
 "nbformat": 4,
 "nbformat_minor": 4
}
